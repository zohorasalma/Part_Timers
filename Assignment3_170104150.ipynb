{
  "nbformat": 4,
  "nbformat_minor": 0,
  "metadata": {
    "colab": {
      "name": "Assignment3_170104150.ipynb",
      "provenance": [],
      "collapsed_sections": [],
      "authorship_tag": "ABX9TyPFpsrl6ip6RxWu9IgTW5fU",
      "include_colab_link": true
    },
    "kernelspec": {
      "name": "python3",
      "display_name": "Python 3"
    },
    "language_info": {
      "name": "python"
    },
    "accelerator": "GPU"
  },
  "cells": [
    {
      "cell_type": "markdown",
      "metadata": {
        "id": "view-in-github",
        "colab_type": "text"
      },
      "source": [
        "<a href=\"https://colab.research.google.com/github/zohorasalma/Part_Timers/blob/master/Assignment3_170104150.ipynb\" target=\"_parent\"><img src=\"https://colab.research.google.com/assets/colab-badge.svg\" alt=\"Open In Colab\"/></a>"
      ]
    },
    {
      "cell_type": "code",
      "metadata": {
        "id": "RzakPmuJH71F"
      },
      "source": [
        "import numpy as np\n",
        "import pandas as pd\n",
        "import seaborn as sns\n",
        "import tensorflow as tf\n",
        "import matplotlib.pyplot as plt\n",
        "\n",
        "plt.style.use(style=\"seaborn\")\n",
        "%matplotlib inline\n",
        "\n",
        "from sklearn.metrics import accuracy_score\n",
        "from sklearn.metrics import precision_score\n",
        "from sklearn.metrics import recall_score\n",
        "from sklearn.metrics import f1_score\n",
        "from sklearn.metrics import confusion_matrix"
      ],
      "execution_count": 42,
      "outputs": []
    },
    {
      "cell_type": "code",
      "metadata": {
        "colab": {
          "base_uri": "https://localhost:8080/"
        },
        "id": "ulWqAsX-yHdg",
        "outputId": "e4c2eef3-9136-4554-d7b5-fef1bb485d48"
      },
      "source": [
        "from google.colab import drive\n",
        "drive.mount('/content/drive')"
      ],
      "execution_count": 43,
      "outputs": [
        {
          "output_type": "stream",
          "name": "stdout",
          "text": [
            "Drive already mounted at /content/drive; to attempt to forcibly remount, call drive.mount(\"/content/drive\", force_remount=True).\n"
          ]
        }
      ]
    },
    {
      "cell_type": "code",
      "metadata": {
        "id": "CN8aq7cW_aIn"
      },
      "source": [
        "dataset = pd.read_csv('/content/drive/MyDrive/Dataset 1.csv',encoding=\"ISO-8859-1\")"
      ],
      "execution_count": 44,
      "outputs": []
    },
    {
      "cell_type": "code",
      "metadata": {
        "colab": {
          "base_uri": "https://localhost:8080/",
          "height": 417
        },
        "id": "mIjgFSy9Bat9",
        "outputId": "be1014e4-02eb-4476-c8c6-b3d5178b3f5c"
      },
      "source": [
        "dataset"
      ],
      "execution_count": 45,
      "outputs": [
        {
          "output_type": "execute_result",
          "data": {
            "text/html": [
              "<div>\n",
              "<style scoped>\n",
              "    .dataframe tbody tr th:only-of-type {\n",
              "        vertical-align: middle;\n",
              "    }\n",
              "\n",
              "    .dataframe tbody tr th {\n",
              "        vertical-align: top;\n",
              "    }\n",
              "\n",
              "    .dataframe thead th {\n",
              "        text-align: right;\n",
              "    }\n",
              "</style>\n",
              "<table border=\"1\" class=\"dataframe\">\n",
              "  <thead>\n",
              "    <tr style=\"text-align: right;\">\n",
              "      <th></th>\n",
              "      <th>message</th>\n",
              "      <th>label</th>\n",
              "    </tr>\n",
              "  </thead>\n",
              "  <tbody>\n",
              "    <tr>\n",
              "      <th>0</th>\n",
              "      <td>just had a real good moment. i missssssssss hi...</td>\n",
              "      <td>0</td>\n",
              "    </tr>\n",
              "    <tr>\n",
              "      <th>1</th>\n",
              "      <td>is reading manga  http://plurk.com/p/mzp1e</td>\n",
              "      <td>0</td>\n",
              "    </tr>\n",
              "    <tr>\n",
              "      <th>2</th>\n",
              "      <td>@comeagainjen http://twitpic.com/2y2lx - http:...</td>\n",
              "      <td>0</td>\n",
              "    </tr>\n",
              "    <tr>\n",
              "      <th>3</th>\n",
              "      <td>@lapcat Need to send 'em to my accountant tomo...</td>\n",
              "      <td>0</td>\n",
              "    </tr>\n",
              "    <tr>\n",
              "      <th>4</th>\n",
              "      <td>ADD ME ON MYSPACE!!!  myspace.com/LookThunder</td>\n",
              "      <td>0</td>\n",
              "    </tr>\n",
              "    <tr>\n",
              "      <th>...</th>\n",
              "      <td>...</td>\n",
              "      <td>...</td>\n",
              "    </tr>\n",
              "    <tr>\n",
              "      <th>10309</th>\n",
              "      <td>No Depression by G Herbo is my mood from now o...</td>\n",
              "      <td>1</td>\n",
              "    </tr>\n",
              "    <tr>\n",
              "      <th>10310</th>\n",
              "      <td>What do you do when depression succumbs the br...</td>\n",
              "      <td>1</td>\n",
              "    </tr>\n",
              "    <tr>\n",
              "      <th>10311</th>\n",
              "      <td>Ketamine Nasal Spray Shows Promise Against Dep...</td>\n",
              "      <td>1</td>\n",
              "    </tr>\n",
              "    <tr>\n",
              "      <th>10312</th>\n",
              "      <td>dont mistake a bad day with depression! everyo...</td>\n",
              "      <td>1</td>\n",
              "    </tr>\n",
              "    <tr>\n",
              "      <th>10313</th>\n",
              "      <td>0</td>\n",
              "      <td>1</td>\n",
              "    </tr>\n",
              "  </tbody>\n",
              "</table>\n",
              "<p>10314 rows × 2 columns</p>\n",
              "</div>"
            ],
            "text/plain": [
              "                                                 message  label\n",
              "0      just had a real good moment. i missssssssss hi...      0\n",
              "1             is reading manga  http://plurk.com/p/mzp1e      0\n",
              "2      @comeagainjen http://twitpic.com/2y2lx - http:...      0\n",
              "3      @lapcat Need to send 'em to my accountant tomo...      0\n",
              "4          ADD ME ON MYSPACE!!!  myspace.com/LookThunder      0\n",
              "...                                                  ...    ...\n",
              "10309  No Depression by G Herbo is my mood from now o...      1\n",
              "10310  What do you do when depression succumbs the br...      1\n",
              "10311  Ketamine Nasal Spray Shows Promise Against Dep...      1\n",
              "10312  dont mistake a bad day with depression! everyo...      1\n",
              "10313                                                  0      1\n",
              "\n",
              "[10314 rows x 2 columns]"
            ]
          },
          "metadata": {},
          "execution_count": 45
        }
      ]
    },
    {
      "cell_type": "code",
      "metadata": {
        "id": "zRQ6jmU0FLmx"
      },
      "source": [
        "import re\n",
        "\n",
        "\n",
        "def remove_URL(text):\n",
        "    url = re.compile(r\"https?://\\S+|www\\.\\S+\")\n",
        "    return url.sub(r\"\", text)\n",
        "\n",
        "\n",
        "def remove_html(text):\n",
        "    html = re.compile(r\"<.*?>\")\n",
        "    return html.sub(r\"\", text)"
      ],
      "execution_count": 46,
      "outputs": []
    },
    {
      "cell_type": "code",
      "metadata": {
        "id": "9b8QTy9vHE3-"
      },
      "source": [
        "def remove_emoji(string):\n",
        "    emoji_pattern = re.compile(\n",
        "        \"[\"\n",
        "        u\"\\U0001F600-\\U0001F64F\"  # emoticons\n",
        "        u\"\\U0001F300-\\U0001F5FF\"  # symbols & pictographs\n",
        "        u\"\\U0001F680-\\U0001F6FF\"  # transport & map symbols\n",
        "        u\"\\U0001F1E0-\\U0001F1FF\"  # flags (iOS)\n",
        "        u\"\\U00002702-\\U000027B0\"\n",
        "        u\"\\U000024C2-\\U0001F251\"\n",
        "        \"]+\",\n",
        "        flags=re.UNICODE,\n",
        "    )\n",
        "    return emoji_pattern.sub(r\"\", string)"
      ],
      "execution_count": 47,
      "outputs": []
    },
    {
      "cell_type": "code",
      "metadata": {
        "id": "zE4oRgRkHLEJ"
      },
      "source": [
        "import string\n",
        "\n",
        "\n",
        "def remove_punct(text):\n",
        "    table = str.maketrans(\"\", \"\", string.punctuation)\n",
        "    return text.translate(table)"
      ],
      "execution_count": 48,
      "outputs": []
    },
    {
      "cell_type": "code",
      "metadata": {
        "id": "43F4ABjNIPm6"
      },
      "source": [
        "dataset[\"message\"] = dataset.message.map(lambda x: remove_URL(x))\n",
        "dataset[\"message\"] = dataset.message.map(lambda x: remove_html(x))\n",
        "dataset[\"message\"] = dataset.message.map(lambda x: remove_emoji(x))\n",
        "dataset[\"message\"] = dataset.message.map(lambda x: remove_punct(x))"
      ],
      "execution_count": 49,
      "outputs": []
    },
    {
      "cell_type": "code",
      "metadata": {
        "colab": {
          "base_uri": "https://localhost:8080/"
        },
        "id": "bZ26yLZhHUAO",
        "outputId": "a1eacb33-7777-4889-c92c-c49bbff8403a"
      },
      "source": [
        "from nltk.corpus import stopwords\n",
        "import nltk\n",
        "nltk.download('stopwords')\n",
        "\n",
        "stop = set(stopwords.words(\"english\"))\n",
        "\n",
        "\n",
        "def remove_stopwords(text):\n",
        "    text = [word.lower() for word in text.split() if word.lower() not in stop]\n",
        "\n",
        "    return \" \".join(text)"
      ],
      "execution_count": 50,
      "outputs": [
        {
          "output_type": "stream",
          "name": "stdout",
          "text": [
            "[nltk_data] Downloading package stopwords to /root/nltk_data...\n",
            "[nltk_data]   Package stopwords is already up-to-date!\n"
          ]
        }
      ]
    },
    {
      "cell_type": "code",
      "metadata": {
        "id": "J1fa9KrPJLXb"
      },
      "source": [
        "dataset[\"message\"] = dataset[\"message\"].map(remove_stopwords)"
      ],
      "execution_count": 51,
      "outputs": []
    },
    {
      "cell_type": "code",
      "metadata": {
        "colab": {
          "base_uri": "https://localhost:8080/"
        },
        "id": "2GEZX_nhJSvt",
        "outputId": "ed6f4a7d-5b22-4f36-abaf-24a981ea62f2"
      },
      "source": [
        "dataset.message"
      ],
      "execution_count": 52,
      "outputs": [
        {
          "output_type": "execute_result",
          "data": {
            "text/plain": [
              "0                       real good moment missssssssss much\n",
              "1                                            reading manga\n",
              "2                                             comeagainjen\n",
              "3        lapcat need send em accountant tomorrow oddly ...\n",
              "4                        add myspace myspacecomlookthunder\n",
              "                               ...                        \n",
              "10309    depression g herbo mood im done stressing peop...\n",
              "10310    depression succumbs brain makes feel like youl...\n",
              "10311    ketamine nasal spray shows promise depression ...\n",
              "10312          dont mistake bad day depression everyone em\n",
              "10313                                                    0\n",
              "Name: message, Length: 10314, dtype: object"
            ]
          },
          "metadata": {},
          "execution_count": 52
        }
      ]
    },
    {
      "cell_type": "code",
      "metadata": {
        "id": "9OFcbq54JkLG"
      },
      "source": [
        "from collections import Counter\n",
        "\n",
        "# Count unique words\n",
        "def counter_word(text):\n",
        "    count = Counter()\n",
        "    for i in text.values:\n",
        "        for word in i.split():\n",
        "            count[word] += 1\n",
        "    return count"
      ],
      "execution_count": 53,
      "outputs": []
    },
    {
      "cell_type": "code",
      "metadata": {
        "id": "vtfgXZ-uJn3Z"
      },
      "source": [
        "text = dataset.message\n",
        "\n",
        "counter = counter_word(text)"
      ],
      "execution_count": 54,
      "outputs": []
    },
    {
      "cell_type": "code",
      "metadata": {
        "colab": {
          "base_uri": "https://localhost:8080/"
        },
        "id": "f1WiSZ49JwO5",
        "outputId": "410ff3d6-8a75-4391-b557-c9cd8b218d85"
      },
      "source": [
        "len(counter)"
      ],
      "execution_count": 55,
      "outputs": [
        {
          "output_type": "execute_result",
          "data": {
            "text/plain": [
              "22304"
            ]
          },
          "metadata": {},
          "execution_count": 55
        }
      ]
    },
    {
      "cell_type": "code",
      "metadata": {
        "id": "P9uJ8oLYKASZ"
      },
      "source": [
        "num_words = len(counter)\n",
        "\n",
        "# Max number of words in a sequence\n",
        "max_length = 20"
      ],
      "execution_count": 56,
      "outputs": []
    },
    {
      "cell_type": "code",
      "metadata": {
        "id": "MU1BQf1VKWqG"
      },
      "source": [
        "train_size = int(dataset.shape[0] * 0.8)\n",
        "\n",
        "train_sentences = dataset.message[:train_size]\n",
        "train_labels = dataset.label[:train_size]\n",
        "\n",
        "test_sentences = dataset.message[train_size:]\n",
        "test_labels = dataset.label[train_size:]"
      ],
      "execution_count": 57,
      "outputs": []
    },
    {
      "cell_type": "code",
      "metadata": {
        "id": "KLWhsHg2Ksre"
      },
      "source": [
        "from keras.preprocessing.text import Tokenizer\n",
        "\n",
        "tokenizer = Tokenizer(num_words=num_words)\n",
        "tokenizer.fit_on_texts(train_sentences)"
      ],
      "execution_count": 58,
      "outputs": []
    },
    {
      "cell_type": "code",
      "metadata": {
        "id": "9ISjtxMiK0Gz"
      },
      "source": [
        "word_index = tokenizer.word_index"
      ],
      "execution_count": 59,
      "outputs": []
    },
    {
      "cell_type": "code",
      "metadata": {
        "colab": {
          "base_uri": "https://localhost:8080/"
        },
        "id": "-cDiPPFxK3Za",
        "outputId": "14f473b2-5f9f-49d7-a826-16d42ba997d9"
      },
      "source": [
        "word_index"
      ],
      "execution_count": 60,
      "outputs": [
        {
          "output_type": "execute_result",
          "data": {
            "text/plain": [
              "{'im': 1,\n",
              " 'good': 2,\n",
              " 'day': 3,\n",
              " 'love': 4,\n",
              " 'get': 5,\n",
              " 'lol': 6,\n",
              " 'like': 7,\n",
              " 'thanks': 8,\n",
              " 'time': 9,\n",
              " 'today': 10,\n",
              " 'going': 11,\n",
              " 'u': 12,\n",
              " 'know': 13,\n",
              " 'go': 14,\n",
              " 'got': 15,\n",
              " 'new': 16,\n",
              " 'see': 17,\n",
              " 'dont': 18,\n",
              " 'one': 19,\n",
              " 'great': 20,\n",
              " 'depression': 21,\n",
              " 'back': 22,\n",
              " 'well': 23,\n",
              " 'night': 24,\n",
              " 'haha': 25,\n",
              " 'happy': 26,\n",
              " 'amp': 27,\n",
              " 'think': 28,\n",
              " 'morning': 29,\n",
              " 'work': 30,\n",
              " 'twitter': 31,\n",
              " 'cant': 32,\n",
              " 'hope': 33,\n",
              " 'much': 34,\n",
              " 'really': 35,\n",
              " 'ill': 36,\n",
              " '2': 37,\n",
              " 'thank': 38,\n",
              " 'fun': 39,\n",
              " 'oh': 40,\n",
              " 'hey': 41,\n",
              " 'thats': 42,\n",
              " 'youre': 43,\n",
              " 'last': 44,\n",
              " 'nice': 45,\n",
              " 'watching': 46,\n",
              " 'tomorrow': 47,\n",
              " 'home': 48,\n",
              " 'better': 49,\n",
              " 'would': 50,\n",
              " 'need': 51,\n",
              " 'still': 52,\n",
              " 'awesome': 53,\n",
              " 'want': 54,\n",
              " 'make': 55,\n",
              " 'everyone': 56,\n",
              " 'wait': 57,\n",
              " 'right': 58,\n",
              " 'way': 59,\n",
              " 'come': 60,\n",
              " 'best': 61,\n",
              " 'gonna': 62,\n",
              " 'yeah': 63,\n",
              " 'bed': 64,\n",
              " 'yes': 65,\n",
              " 'first': 66,\n",
              " 'getting': 67,\n",
              " 'cool': 68,\n",
              " 'guys': 69,\n",
              " 'feel': 70,\n",
              " 'made': 71,\n",
              " 'ive': 72,\n",
              " 'people': 73,\n",
              " 'amazing': 74,\n",
              " 'tonight': 75,\n",
              " 'please': 76,\n",
              " 'friends': 77,\n",
              " 'ok': 78,\n",
              " 'life': 79,\n",
              " 'ready': 80,\n",
              " 'us': 81,\n",
              " 'done': 82,\n",
              " 'follow': 83,\n",
              " 'weekend': 84,\n",
              " 'sure': 85,\n",
              " 'yay': 86,\n",
              " 'soon': 87,\n",
              " 'glad': 88,\n",
              " 'days': 89,\n",
              " 'though': 90,\n",
              " 'even': 91,\n",
              " 'take': 92,\n",
              " 'say': 93,\n",
              " 'something': 94,\n",
              " 'week': 95,\n",
              " 'long': 96,\n",
              " 'next': 97,\n",
              " 'excited': 98,\n",
              " 'never': 99,\n",
              " 'look': 100,\n",
              " 'check': 101,\n",
              " 'tweet': 102,\n",
              " 'movie': 103,\n",
              " 'try': 104,\n",
              " 'watch': 105,\n",
              " 'song': 106,\n",
              " 'birthday': 107,\n",
              " '4': 108,\n",
              " 'sleep': 109,\n",
              " 'show': 110,\n",
              " 'pretty': 111,\n",
              " 'ur': 112,\n",
              " 'school': 113,\n",
              " 'finally': 114,\n",
              " 'looking': 115,\n",
              " 'went': 116,\n",
              " 'ever': 117,\n",
              " 'man': 118,\n",
              " 'lt3': 119,\n",
              " 'world': 120,\n",
              " 'didnt': 121,\n",
              " 'x': 122,\n",
              " 'thing': 123,\n",
              " 'beautiful': 124,\n",
              " 'always': 125,\n",
              " 'maybe': 126,\n",
              " 'sun': 127,\n",
              " 'big': 128,\n",
              " 'another': 129,\n",
              " 'could': 130,\n",
              " 'bad': 131,\n",
              " 'help': 132,\n",
              " 'little': 133,\n",
              " 'friend': 134,\n",
              " 'house': 135,\n",
              " 'already': 136,\n",
              " 'hi': 137,\n",
              " 'enjoy': 138,\n",
              " 'ya': 139,\n",
              " 'listening': 140,\n",
              " 'nothing': 141,\n",
              " 'actually': 142,\n",
              " '3': 143,\n",
              " 'use': 144,\n",
              " 'wish': 145,\n",
              " 'music': 146,\n",
              " 'let': 147,\n",
              " 'wow': 148,\n",
              " 'summer': 149,\n",
              " 'start': 150,\n",
              " 'miss': 151,\n",
              " 'give': 152,\n",
              " 'job': 153,\n",
              " 'cute': 154,\n",
              " 'things': 155,\n",
              " 'feeling': 156,\n",
              " 'working': 157,\n",
              " 'sweet': 158,\n",
              " 'early': 159,\n",
              " 'sounds': 160,\n",
              " 'free': 161,\n",
              " 'keep': 162,\n",
              " 'girl': 163,\n",
              " 'luck': 164,\n",
              " '5': 165,\n",
              " 'wanna': 166,\n",
              " 'later': 167,\n",
              " 'lot': 168,\n",
              " 'find': 169,\n",
              " 'someone': 170,\n",
              " 'many': 171,\n",
              " 'tell': 172,\n",
              " 'year': 173,\n",
              " 'waiting': 174,\n",
              " 'god': 175,\n",
              " 'around': 176,\n",
              " 'welcome': 177,\n",
              " 'real': 178,\n",
              " 'funny': 179,\n",
              " 'sorry': 180,\n",
              " 'friday': 181,\n",
              " 'dinner': 182,\n",
              " 'bit': 183,\n",
              " 'read': 184,\n",
              " 'baby': 185,\n",
              " 'party': 186,\n",
              " 'may': 187,\n",
              " 'hours': 188,\n",
              " 'totally': 189,\n",
              " 'every': 190,\n",
              " 'followers': 191,\n",
              " 'also': 192,\n",
              " 'id': 193,\n",
              " 'live': 194,\n",
              " 'making': 195,\n",
              " 'said': 196,\n",
              " 'least': 197,\n",
              " 'trying': 198,\n",
              " 'two': 199,\n",
              " 'wont': 200,\n",
              " 'old': 201,\n",
              " 'might': 202,\n",
              " 'mom': 203,\n",
              " 'goodnight': 204,\n",
              " 'stuff': 205,\n",
              " 'yet': 206,\n",
              " 'makes': 207,\n",
              " 'lets': 208,\n",
              " 'hot': 209,\n",
              " 'xx': 210,\n",
              " 'hear': 211,\n",
              " 'hair': 212,\n",
              " 'saturday': 213,\n",
              " 'playing': 214,\n",
              " 'omg': 215,\n",
              " 'ha': 216,\n",
              " 'game': 217,\n",
              " 'thinking': 218,\n",
              " 'sunday': 219,\n",
              " 'lovely': 220,\n",
              " 'guess': 221,\n",
              " 'play': 222,\n",
              " 'anyone': 223,\n",
              " 'eat': 224,\n",
              " 'till': 225,\n",
              " 'family': 226,\n",
              " 'away': 227,\n",
              " 'n': 228,\n",
              " 'coming': 229,\n",
              " 'hello': 230,\n",
              " 'hes': 231,\n",
              " 'tired': 232,\n",
              " 'almost': 233,\n",
              " 'stop': 234,\n",
              " 'times': 235,\n",
              " 'coffee': 236,\n",
              " 'weather': 237,\n",
              " '1': 238,\n",
              " 'whats': 239,\n",
              " 'looks': 240,\n",
              " 'forward': 241,\n",
              " 'okay': 242,\n",
              " 'food': 243,\n",
              " 'saw': 244,\n",
              " 'phone': 245,\n",
              " 'following': 246,\n",
              " 'yesterday': 247,\n",
              " 'outside': 248,\n",
              " 'busy': 249,\n",
              " 'thought': 250,\n",
              " 'found': 251,\n",
              " 'hahaha': 252,\n",
              " 'hard': 253,\n",
              " 'mothers': 254,\n",
              " 'late': 255,\n",
              " 'lmao': 256,\n",
              " 'loved': 257,\n",
              " 'post': 258,\n",
              " 'eating': 259,\n",
              " 'june': 260,\n",
              " 'pic': 261,\n",
              " 'left': 262,\n",
              " 'buy': 263,\n",
              " 'monday': 264,\n",
              " 'anxiety': 265,\n",
              " 'add': 266,\n",
              " 'havent': 267,\n",
              " 'quite': 268,\n",
              " 'enough': 269,\n",
              " 'congrats': 270,\n",
              " 'anyway': 271,\n",
              " 'mean': 272,\n",
              " 'blog': 273,\n",
              " 'remember': 274,\n",
              " 'rain': 275,\n",
              " 'far': 276,\n",
              " 'email': 277,\n",
              " 'idea': 278,\n",
              " 'care': 279,\n",
              " 'finished': 280,\n",
              " '10': 281,\n",
              " 'shopping': 282,\n",
              " 'btw': 283,\n",
              " 'album': 284,\n",
              " 'talk': 285,\n",
              " 'using': 286,\n",
              " 'w': 287,\n",
              " 'video': 288,\n",
              " 'youll': 289,\n",
              " 'used': 290,\n",
              " 'call': 291,\n",
              " 'movies': 292,\n",
              " 'place': 293,\n",
              " 'gt': 294,\n",
              " 'isnt': 295,\n",
              " 'end': 296,\n",
              " 'hopefully': 297,\n",
              " 'stay': 298,\n",
              " 'enjoying': 299,\n",
              " 'pay': 300,\n",
              " '100': 301,\n",
              " 'b': 302,\n",
              " 'fine': 303,\n",
              " 'must': 304,\n",
              " 'trip': 305,\n",
              " 'put': 306,\n",
              " 'hate': 307,\n",
              " 'breakfast': 308,\n",
              " 'head': 309,\n",
              " 'crazy': 310,\n",
              " 'whole': 311,\n",
              " 'talking': 312,\n",
              " 'r': 313,\n",
              " 'person': 314,\n",
              " 'room': 315,\n",
              " 'la': 316,\n",
              " 'mine': 317,\n",
              " 'damn': 318,\n",
              " 'gotta': 319,\n",
              " 'win': 320,\n",
              " 'rest': 321,\n",
              " 'anything': 322,\n",
              " 'favorite': 323,\n",
              " 'book': 324,\n",
              " 'beach': 325,\n",
              " 'seeing': 326,\n",
              " 'watched': 327,\n",
              " 'shes': 328,\n",
              " 'meet': 329,\n",
              " 'years': 330,\n",
              " 'part': 331,\n",
              " 'site': 332,\n",
              " 'true': 333,\n",
              " 'via': 334,\n",
              " 'reading': 335,\n",
              " 'wasnt': 336,\n",
              " 'bought': 337,\n",
              " 'called': 338,\n",
              " 'car': 339,\n",
              " 'followfriday': 340,\n",
              " 'rock': 341,\n",
              " 'ddlovato': 342,\n",
              " 'lunch': 343,\n",
              " 'wedding': 344,\n",
              " 'definitely': 345,\n",
              " 'mind': 346,\n",
              " 'send': 347,\n",
              " 'listen': 348,\n",
              " 'mileycyrus': 349,\n",
              " 'together': 350,\n",
              " 'super': 351,\n",
              " 'wonderful': 352,\n",
              " 'heard': 353,\n",
              " 'write': 354,\n",
              " 'course': 355,\n",
              " 'tweets': 356,\n",
              " 'interesting': 357,\n",
              " 'girls': 358,\n",
              " 'money': 359,\n",
              " 'train': 360,\n",
              " 'tho': 361,\n",
              " 'tommcfly': 362,\n",
              " 'name': 363,\n",
              " 'appreciate': 364,\n",
              " 'aww': 365,\n",
              " 'sitting': 366,\n",
              " 'forget': 367,\n",
              " 'theyre': 368,\n",
              " 'else': 369,\n",
              " 'kinda': 370,\n",
              " 'afternoon': 371,\n",
              " 'theres': 372,\n",
              " 'band': 373,\n",
              " 'cause': 374,\n",
              " 'luv': 375,\n",
              " 'hehe': 376,\n",
              " 'doesnt': 377,\n",
              " 'shit': 378,\n",
              " 'boy': 379,\n",
              " 'blue': 380,\n",
              " 'probably': 381,\n",
              " 'bring': 382,\n",
              " 'reply': 383,\n",
              " 'ask': 384,\n",
              " 'page': 385,\n",
              " 'hit': 386,\n",
              " 'everything': 387,\n",
              " 'sunny': 388,\n",
              " 'bout': 389,\n",
              " 'without': 390,\n",
              " 'since': 391,\n",
              " 'songs': 392,\n",
              " '6': 393,\n",
              " 'heading': 394,\n",
              " 'took': 395,\n",
              " 'easy': 396,\n",
              " 'drinking': 397,\n",
              " 'tea': 398,\n",
              " 'drive': 399,\n",
              " 'kids': 400,\n",
              " 'seen': 401,\n",
              " 'jonas': 402,\n",
              " 'missed': 403,\n",
              " 'xd': 404,\n",
              " 'full': 405,\n",
              " 'ã¢â\\x80â¦': 406,\n",
              " 'myspace': 407,\n",
              " 'nite': 408,\n",
              " 'laugh': 409,\n",
              " 'awww': 410,\n",
              " 'drink': 411,\n",
              " 'worth': 412,\n",
              " 'came': 413,\n",
              " 'believe': 414,\n",
              " 'run': 415,\n",
              " 'worry': 416,\n",
              " 'dude': 417,\n",
              " 'ah': 418,\n",
              " 'problem': 419,\n",
              " 'hell': 420,\n",
              " 'ice': 421,\n",
              " 'evening': 422,\n",
              " 'hows': 423,\n",
              " 'garden': 424,\n",
              " 'vip': 425,\n",
              " 'top': 426,\n",
              " 'online': 427,\n",
              " 'xoxo': 428,\n",
              " 'yall': 429,\n",
              " 'ago': 430,\n",
              " 'taking': 431,\n",
              " 'sooo': 432,\n",
              " 'set': 433,\n",
              " 'half': 434,\n",
              " 'guy': 435,\n",
              " 'pick': 436,\n",
              " 'picture': 437,\n",
              " 'tv': 438,\n",
              " 'pictures': 439,\n",
              " 'shower': 440,\n",
              " 'miley': 441,\n",
              " 'change': 442,\n",
              " 'lucky': 443,\n",
              " 'smile': 444,\n",
              " '1st': 445,\n",
              " 'lots': 446,\n",
              " 'side': 447,\n",
              " 'kind': 448,\n",
              " 'concert': 449,\n",
              " 'loves': 450,\n",
              " 'happen': 451,\n",
              " 'exactly': 452,\n",
              " 'visit': 453,\n",
              " '7': 454,\n",
              " 'fuck': 455,\n",
              " 'support': 456,\n",
              " 'weeks': 457,\n",
              " 'goin': 458,\n",
              " 'learn': 459,\n",
              " 'gone': 460,\n",
              " 'woke': 461,\n",
              " 'story': 462,\n",
              " 'beer': 463,\n",
              " 'p': 464,\n",
              " 'link': 465,\n",
              " 'nap': 466,\n",
              " 'bday': 467,\n",
              " 'lakers': 468,\n",
              " 'leave': 469,\n",
              " 'perfect': 470,\n",
              " 'news': 471,\n",
              " 'started': 472,\n",
              " 'second': 473,\n",
              " '8': 474,\n",
              " 'white': 475,\n",
              " 'seems': 476,\n",
              " 'heart': 477,\n",
              " 'everybody': 478,\n",
              " 'ass': 479,\n",
              " 'facebook': 480,\n",
              " 'loving': 481,\n",
              " 'aint': 482,\n",
              " 'red': 483,\n",
              " 'fan': 484,\n",
              " 'aw': 485,\n",
              " 'brothers': 486,\n",
              " 'cut': 487,\n",
              " 'face': 488,\n",
              " 'awake': 489,\n",
              " 'cream': 490,\n",
              " 'wonder': 491,\n",
              " 'guitar': 492,\n",
              " 'proud': 493,\n",
              " 'comes': 494,\n",
              " 'decided': 495,\n",
              " 'soo': 496,\n",
              " 'moment': 497,\n",
              " 'congratulations': 498,\n",
              " 'woo': 499,\n",
              " 'cold': 500,\n",
              " 'wrong': 501,\n",
              " 'starting': 502,\n",
              " 'couldnt': 503,\n",
              " 'thx': 504,\n",
              " 'sunshine': 505,\n",
              " 'town': 506,\n",
              " 'july': 507,\n",
              " 'saying': 508,\n",
              " 'fb': 509,\n",
              " 'nights': 510,\n",
              " 'feels': 511,\n",
              " 'class': 512,\n",
              " 'bored': 513,\n",
              " 'special': 514,\n",
              " 'city': 515,\n",
              " 'yummy': 516,\n",
              " 'college': 517,\n",
              " 'mother': 518,\n",
              " 'hahahaha': 519,\n",
              " 'wants': 520,\n",
              " 'goes': 521,\n",
              " 'vacation': 522,\n",
              " 'wanted': 523,\n",
              " 'text': 524,\n",
              " 'til': 525,\n",
              " 'able': 526,\n",
              " 'works': 527,\n",
              " 'tweeting': 528,\n",
              " 'hahah': 529,\n",
              " '12': 530,\n",
              " 'safe': 531,\n",
              " 'business': 532,\n",
              " 'photo': 533,\n",
              " 'liked': 534,\n",
              " 'told': 535,\n",
              " 'forgot': 536,\n",
              " 'computer': 537,\n",
              " 'break': 538,\n",
              " 'fucking': 539,\n",
              " 'wouldnt': 540,\n",
              " 'ppl': 541,\n",
              " 'join': 542,\n",
              " 'walk': 543,\n",
              " 'vote': 544,\n",
              " 'raining': 545,\n",
              " 'cd': 546,\n",
              " 'yea': 547,\n",
              " 'youtube': 548,\n",
              " 'social': 549,\n",
              " 'open': 550,\n",
              " 'either': 551,\n",
              " 'shall': 552,\n",
              " 'sleeping': 553,\n",
              " 'team': 554,\n",
              " 'shows': 555,\n",
              " 'fantastic': 556,\n",
              " 'says': 557,\n",
              " 'xxx': 558,\n",
              " 'yep': 559,\n",
              " 'road': 560,\n",
              " 'asleep': 561,\n",
              " 'agree': 562,\n",
              " 'black': 563,\n",
              " 'jealous': 564,\n",
              " 'church': 565,\n",
              " 'words': 566,\n",
              " 'knows': 567,\n",
              " 'green': 568,\n",
              " 'comment': 569,\n",
              " 'dad': 570,\n",
              " 'jonasbrothers': 571,\n",
              " 'star': 572,\n",
              " 'finish': 573,\n",
              " 'itll': 574,\n",
              " 'hoping': 575,\n",
              " 'running': 576,\n",
              " 'poor': 577,\n",
              " 'art': 578,\n",
              " 'internet': 579,\n",
              " 'hanging': 580,\n",
              " 'share': 581,\n",
              " 'wine': 582,\n",
              " 'hour': 583,\n",
              " 'hand': 584,\n",
              " 'along': 585,\n",
              " 'three': 586,\n",
              " 'ff': 587,\n",
              " 'tour': 588,\n",
              " 'knew': 589,\n",
              " 'cuz': 590,\n",
              " 'catch': 591,\n",
              " 'hmm': 592,\n",
              " 'water': 593,\n",
              " 'plan': 594,\n",
              " 'tom': 595,\n",
              " 'absolutely': 596,\n",
              " 'youve': 597,\n",
              " 'mood': 598,\n",
              " 'dreams': 599,\n",
              " 'shop': 600,\n",
              " 'turn': 601,\n",
              " 'positive': 602,\n",
              " 'ride': 603,\n",
              " 'dance': 604,\n",
              " 'dog': 605,\n",
              " 'thinks': 606,\n",
              " 'da': 607,\n",
              " 'especially': 608,\n",
              " 'twittering': 609,\n",
              " 'low': 610,\n",
              " 'london': 611,\n",
              " 'cos': 612,\n",
              " 'hugs': 613,\n",
              " 'film': 614,\n",
              " 'wake': 615,\n",
              " 'enjoyed': 616,\n",
              " 'pain': 617,\n",
              " 'fit': 618,\n",
              " 'word': 619,\n",
              " 'c': 620,\n",
              " 'ones': 621,\n",
              " 'bar': 622,\n",
              " 'office': 623,\n",
              " 'leaving': 624,\n",
              " 'peace': 625,\n",
              " 'record': 626,\n",
              " 'fall': 627,\n",
              " '30': 628,\n",
              " 'months': 629,\n",
              " 'episode': 630,\n",
              " 'fans': 631,\n",
              " 'awards': 632,\n",
              " 'em': 633,\n",
              " 'moon': 634,\n",
              " 'woot': 635,\n",
              " 'case': 636,\n",
              " 'season': 637,\n",
              " 'less': 638,\n",
              " 'hang': 639,\n",
              " 'mall': 640,\n",
              " 'pizza': 641,\n",
              " 'seriously': 642,\n",
              " 'cheers': 643,\n",
              " 'test': 644,\n",
              " 'yum': 645,\n",
              " 'mr': 646,\n",
              " 'deserve': 647,\n",
              " 'bet': 648,\n",
              " 'giving': 649,\n",
              " 'chance': 650,\n",
              " 'iphone': 651,\n",
              " 'walking': 652,\n",
              " 'david': 653,\n",
              " 'nick': 654,\n",
              " 'lazy': 655,\n",
              " 'youd': 656,\n",
              " 'account': 657,\n",
              " 'web': 658,\n",
              " 'number': 659,\n",
              " 'boys': 660,\n",
              " 'pleasure': 661,\n",
              " 'hangover': 662,\n",
              " 'gave': 663,\n",
              " 'sick': 664,\n",
              " 'books': 665,\n",
              " 'style': 666,\n",
              " 'lost': 667,\n",
              " 'list': 668,\n",
              " 'study': 669,\n",
              " 'sad': 670,\n",
              " 'spent': 671,\n",
              " 'pool': 672,\n",
              " 'health': 673,\n",
              " 'meeting': 674,\n",
              " 'lady': 675,\n",
              " 'sound': 676,\n",
              " 'beat': 677,\n",
              " 'different': 678,\n",
              " 'sister': 679,\n",
              " 'relaxing': 680,\n",
              " 'experience': 681,\n",
              " 'single': 682,\n",
              " 'perhaps': 683,\n",
              " 'update': 684,\n",
              " 'meant': 685,\n",
              " 'sent': 686,\n",
              " 'slept': 687,\n",
              " 'type': 688,\n",
              " 'wondering': 689,\n",
              " 'fix': 690,\n",
              " 'def': 691,\n",
              " 'alright': 692,\n",
              " 'blessed': 693,\n",
              " 'heres': 694,\n",
              " '20': 695,\n",
              " 'played': 696,\n",
              " 'holiday': 697,\n",
              " 'thursday': 698,\n",
              " 'graduation': 699,\n",
              " 'message': 700,\n",
              " 'twilight': 701,\n",
              " 'mtv': 702,\n",
              " 'lil': 703,\n",
              " 'indeed': 704,\n",
              " 'hug': 705,\n",
              " 'minutes': 706,\n",
              " 'power': 707,\n",
              " 'sims': 708,\n",
              " 'met': 709,\n",
              " 'exam': 710,\n",
              " 'felt': 711,\n",
              " 'hungry': 712,\n",
              " 'hotel': 713,\n",
              " 'move': 714,\n",
              " 'instead': 715,\n",
              " 'sing': 716,\n",
              " 'pink': 717,\n",
              " 'cake': 718,\n",
              " 'mental': 719,\n",
              " 'dm': 720,\n",
              " 'gets': 721,\n",
              " 'sometimes': 722,\n",
              " 'mcflyforgermany': 723,\n",
              " 'pics': 724,\n",
              " 'ate': 725,\n",
              " 'english': 726,\n",
              " 'info': 727,\n",
              " 'posted': 728,\n",
              " 'crap': 729,\n",
              " 'twitters': 730,\n",
              " 'bless': 731,\n",
              " 'sign': 732,\n",
              " 'living': 733,\n",
              " 'couple': 734,\n",
              " 'clean': 735,\n",
              " 'answer': 736,\n",
              " 'fingers': 737,\n",
              " 'stupid': 738,\n",
              " 'dream': 739,\n",
              " 'ahh': 740,\n",
              " 'bye': 741,\n",
              " 'nearly': 742,\n",
              " 'doubt': 743,\n",
              " 'mac': 744,\n",
              " 'warm': 745,\n",
              " 'updates': 746,\n",
              " 'staying': 747,\n",
              " 'fight': 748,\n",
              " 'service': 749,\n",
              " 'month': 750,\n",
              " 'soooo': 751,\n",
              " 'sexy': 752,\n",
              " 'cooking': 753,\n",
              " 'relax': 754,\n",
              " 'event': 755,\n",
              " 'ladies': 756,\n",
              " 'whatever': 757,\n",
              " 'tickets': 758,\n",
              " 'reason': 759,\n",
              " 'order': 760,\n",
              " 'cannot': 761,\n",
              " 'media': 762,\n",
              " 'bro': 763,\n",
              " 'park': 764,\n",
              " 'thoughts': 765,\n",
              " 'joy': 766,\n",
              " 'hands': 767,\n",
              " 'session': 768,\n",
              " 'background': 769,\n",
              " 'voice': 770,\n",
              " 'weird': 771,\n",
              " 'figure': 772,\n",
              " 'goodness': 773,\n",
              " 'folks': 774,\n",
              " 'fresh': 775,\n",
              " 'heyy': 776,\n",
              " 'short': 777,\n",
              " 'calling': 778,\n",
              " 'glass': 779,\n",
              " 'fact': 780,\n",
              " 'thankyou': 781,\n",
              " 'shirt': 782,\n",
              " 'wear': 783,\n",
              " 'joined': 784,\n",
              " 'parents': 785,\n",
              " 'often': 786,\n",
              " 'yo': 787,\n",
              " 'usually': 788,\n",
              " 'fixed': 789,\n",
              " 'disney': 790,\n",
              " 'question': 791,\n",
              " 'bbq': 792,\n",
              " 'august': 793,\n",
              " 'driving': 794,\n",
              " 'bright': 795,\n",
              " 'etc': 796,\n",
              " 'headed': 797,\n",
              " 'camera': 798,\n",
              " 'high': 799,\n",
              " 'radio': 800,\n",
              " 'past': 801,\n",
              " 'cousin': 802,\n",
              " 'dark': 803,\n",
              " 'worked': 804,\n",
              " 'line': 805,\n",
              " 'round': 806,\n",
              " 'tweeps': 807,\n",
              " 'pass': 808,\n",
              " 'needs': 809,\n",
              " 'quick': 810,\n",
              " 'die': 811,\n",
              " 'looked': 812,\n",
              " 'texas': 813,\n",
              " 'tried': 814,\n",
              " 'homework': 815,\n",
              " 'become': 816,\n",
              " 'doin': 817,\n",
              " 'fav': 818,\n",
              " 'deal': 819,\n",
              " 'packing': 820,\n",
              " 'final': 821,\n",
              " 'dear': 822,\n",
              " 'sat': 823,\n",
              " 'arent': 824,\n",
              " 'writing': 825,\n",
              " 'pack': 826,\n",
              " 'view': 827,\n",
              " 'major': 828,\n",
              " 'hmmm': 829,\n",
              " 'brother': 830,\n",
              " 'idk': 831,\n",
              " 'workout': 832,\n",
              " 'ps': 833,\n",
              " 'magic': 834,\n",
              " 'wearing': 835,\n",
              " 'design': 836,\n",
              " 'website': 837,\n",
              " 'drunk': 838,\n",
              " 'paint': 839,\n",
              " 'na': 840,\n",
              " 'touch': 841,\n",
              " 'hilarious': 842,\n",
              " 'hah': 843,\n",
              " 'donniewahlberg': 844,\n",
              " 'hun': 845,\n",
              " 'dress': 846,\n",
              " 'street': 847,\n",
              " 'huge': 848,\n",
              " 'demi': 849,\n",
              " 'air': 850,\n",
              " 'lose': 851,\n",
              " 'wife': 852,\n",
              " 'k': 853,\n",
              " 'project': 854,\n",
              " 'fabulous': 855,\n",
              " 'bb': 856,\n",
              " 'mark': 857,\n",
              " 'um': 858,\n",
              " 'earlier': 859,\n",
              " 'card': 860,\n",
              " 'ipod': 861,\n",
              " 'legs': 862,\n",
              " 'bus': 863,\n",
              " 'self': 864,\n",
              " 'alot': 865,\n",
              " 'date': 866,\n",
              " 'favourite': 867,\n",
              " 'men': 868,\n",
              " 'huh': 869,\n",
              " 'chocolate': 870,\n",
              " '2nd': 871,\n",
              " 'sir': 872,\n",
              " 'cover': 873,\n",
              " 'fast': 874,\n",
              " 'google': 875,\n",
              " 'anytime': 876,\n",
              " 'double': 877,\n",
              " 'hurt': 878,\n",
              " 'greatest': 879,\n",
              " 'asking': 880,\n",
              " 'bear': 881,\n",
              " 'keeps': 882,\n",
              " 'bike': 883,\n",
              " 'votes': 884,\n",
              " 'tuesday': 885,\n",
              " 'hold': 886,\n",
              " 'stuck': 887,\n",
              " 'local': 888,\n",
              " 'mention': 889,\n",
              " 'cook': 890,\n",
              " 'eh': 891,\n",
              " 'north': 892,\n",
              " 'secret': 893,\n",
              " 'others': 894,\n",
              " 'fly': 895,\n",
              " 'happens': 896,\n",
              " 'young': 897,\n",
              " 'moving': 898,\n",
              " 'wii': 899,\n",
              " 'personal': 900,\n",
              " 'moms': 901,\n",
              " 'added': 902,\n",
              " 'laptop': 903,\n",
              " 'missing': 904,\n",
              " 'helped': 905,\n",
              " 'bc': 906,\n",
              " 'epic': 907,\n",
              " 'offer': 908,\n",
              " 'piano': 909,\n",
              " 'yup': 910,\n",
              " 'south': 911,\n",
              " 'princess': 912,\n",
              " 'surprised': 913,\n",
              " 'interview': 914,\n",
              " '2nite': 915,\n",
              " 'however': 916,\n",
              " 'sis': 917,\n",
              " 'museum': 918,\n",
              " 'cat': 919,\n",
              " 'sleepy': 920,\n",
              " 'seattle': 921,\n",
              " 'sisters': 922,\n",
              " 'extra': 923,\n",
              " 'track': 924,\n",
              " 'sending': 925,\n",
              " 'state': 926,\n",
              " 'training': 927,\n",
              " 'means': 928,\n",
              " 'checking': 929,\n",
              " 'dougiemcfly': 930,\n",
              " 'peeps': 931,\n",
              " 'cleaning': 932,\n",
              " 'table': 933,\n",
              " 'advice': 934,\n",
              " '25': 935,\n",
              " 'boat': 936,\n",
              " 'promise': 937,\n",
              " 'understand': 938,\n",
              " 'nyc': 939,\n",
              " 'jus': 940,\n",
              " 'oooh': 941,\n",
              " 'front': 942,\n",
              " 'straight': 943,\n",
              " 'mum': 944,\n",
              " 'airport': 945,\n",
              " 'games': 946,\n",
              " 'trek': 947,\n",
              " 'updated': 948,\n",
              " 'spend': 949,\n",
              " 'macbook': 950,\n",
              " 'annoying': 951,\n",
              " 'spending': 952,\n",
              " 'ampamp': 953,\n",
              " 'silly': 954,\n",
              " 'chris': 955,\n",
              " 'flight': 956,\n",
              " 'imma': 957,\n",
              " 'helps': 958,\n",
              " 'longer': 959,\n",
              " 'broke': 960,\n",
              " 'bag': 961,\n",
              " 'nervous': 962,\n",
              " 'prefer': 963,\n",
              " 'uk': 964,\n",
              " 'pls': 965,\n",
              " 'miles': 966,\n",
              " 'plans': 967,\n",
              " 'minute': 968,\n",
              " 'note': 969,\n",
              " 'bottle': 970,\n",
              " 'arrived': 971,\n",
              " 'hills': 972,\n",
              " 'store': 973,\n",
              " 'gtlt': 974,\n",
              " 'shot': 975,\n",
              " 'apple': 976,\n",
              " 'area': 977,\n",
              " 'fat': 978,\n",
              " 'group': 979,\n",
              " 'bank': 980,\n",
              " 'v': 981,\n",
              " 'podcast': 982,\n",
              " 'thanx': 983,\n",
              " 'fam': 984,\n",
              " 'uni': 985,\n",
              " 'exams': 986,\n",
              " 'john': 987,\n",
              " 'sense': 988,\n",
              " 'chill': 989,\n",
              " 'hubby': 990,\n",
              " 'hee': 991,\n",
              " 'wit': 992,\n",
              " 'blast': 993,\n",
              " 'planned': 994,\n",
              " 'shoes': 995,\n",
              " 'article': 996,\n",
              " 'passed': 997,\n",
              " 'wins': 998,\n",
              " 'helping': 999,\n",
              " 'alone': 1000,\n",
              " ...}"
            ]
          },
          "metadata": {},
          "execution_count": 60
        }
      ]
    },
    {
      "cell_type": "code",
      "metadata": {
        "id": "wB-A5QW2LETC"
      },
      "source": [
        "train_sequences = tokenizer.texts_to_sequences(train_sentences)"
      ],
      "execution_count": 61,
      "outputs": []
    },
    {
      "cell_type": "code",
      "metadata": {
        "colab": {
          "base_uri": "https://localhost:8080/"
        },
        "id": "KYdEDIb6LH2m",
        "outputId": "4bd52bad-5fca-40ae-cbd9-407c9f749957"
      },
      "source": [
        "train_sequences[0]"
      ],
      "execution_count": 62,
      "outputs": [
        {
          "output_type": "execute_result",
          "data": {
            "text/plain": [
              "[178, 2, 497, 4769, 34]"
            ]
          },
          "metadata": {},
          "execution_count": 62
        }
      ]
    },
    {
      "cell_type": "code",
      "metadata": {
        "id": "yGcnspAsLLuF"
      },
      "source": [
        "from keras.preprocessing.sequence import pad_sequences\n",
        "\n",
        "train_padded = pad_sequences(\n",
        "    train_sequences, maxlen=max_length, padding=\"post\", truncating=\"post\"\n",
        ")"
      ],
      "execution_count": 63,
      "outputs": []
    },
    {
      "cell_type": "code",
      "metadata": {
        "colab": {
          "base_uri": "https://localhost:8080/"
        },
        "id": "yIOkfAKMLQXx",
        "outputId": "da4db09c-6e34-44ce-acfa-3bb995f8be92"
      },
      "source": [
        "train_padded[0]"
      ],
      "execution_count": 64,
      "outputs": [
        {
          "output_type": "execute_result",
          "data": {
            "text/plain": [
              "array([ 178,    2,  497, 4769,   34,    0,    0,    0,    0,    0,    0,\n",
              "          0,    0,    0,    0,    0,    0,    0,    0,    0], dtype=int32)"
            ]
          },
          "metadata": {},
          "execution_count": 64
        }
      ]
    },
    {
      "cell_type": "code",
      "metadata": {
        "id": "uTNb8L8hMICv"
      },
      "source": [
        "test_sequences = tokenizer.texts_to_sequences(test_sentences)\n",
        "test_padded = pad_sequences(\n",
        "    test_sequences, maxlen=max_length, padding=\"post\", truncating=\"post\"\n",
        ")"
      ],
      "execution_count": 65,
      "outputs": []
    },
    {
      "cell_type": "code",
      "metadata": {
        "colab": {
          "base_uri": "https://localhost:8080/"
        },
        "id": "tqao1_20LXx2",
        "outputId": "e236f316-5e07-481a-f0e7-3ff4e5c6fdc8"
      },
      "source": [
        "print(dataset.message[0])\n",
        "print(train_sequences[0])"
      ],
      "execution_count": 66,
      "outputs": [
        {
          "output_type": "stream",
          "name": "stdout",
          "text": [
            "real good moment missssssssss much\n",
            "[178, 2, 497, 4769, 34]\n"
          ]
        }
      ]
    },
    {
      "cell_type": "code",
      "metadata": {
        "id": "Il8q5pl2Li8E"
      },
      "source": [
        "reverse_word_index = dict([(value, key) for (key, value) in word_index.items()])"
      ],
      "execution_count": 67,
      "outputs": []
    },
    {
      "cell_type": "code",
      "metadata": {
        "id": "HNB_w7KzLsEr"
      },
      "source": [
        "def decode(text):\n",
        "    return \" \".join([reverse_word_index.get(i, \"?\") for i in text])"
      ],
      "execution_count": 68,
      "outputs": []
    },
    {
      "cell_type": "code",
      "metadata": {
        "colab": {
          "base_uri": "https://localhost:8080/",
          "height": 35
        },
        "id": "0cb6Wa9_LxHl",
        "outputId": "4d3da55b-a955-4a15-97ad-0cfc70462eea"
      },
      "source": [
        "decode(train_sequences[0])"
      ],
      "execution_count": 69,
      "outputs": [
        {
          "output_type": "execute_result",
          "data": {
            "application/vnd.google.colaboratory.intrinsic+json": {
              "type": "string"
            },
            "text/plain": [
              "'real good moment missssssssss much'"
            ]
          },
          "metadata": {},
          "execution_count": 69
        }
      ]
    },
    {
      "cell_type": "code",
      "metadata": {
        "colab": {
          "base_uri": "https://localhost:8080/"
        },
        "id": "Jsiqp_CJLx8Z",
        "outputId": "4d3238cc-9084-49fd-c270-4cecb9510738"
      },
      "source": [
        "print(f\"Shape of train {train_padded.shape}\")\n",
        "print(f\"Shape of test {test_padded.shape}\")"
      ],
      "execution_count": 70,
      "outputs": [
        {
          "output_type": "stream",
          "name": "stdout",
          "text": [
            "Shape of train (8251, 20)\n",
            "Shape of test (2063, 20)\n"
          ]
        }
      ]
    },
    {
      "cell_type": "code",
      "metadata": {
        "colab": {
          "base_uri": "https://localhost:8080/"
        },
        "id": "ZjYUb5mEPCNR",
        "outputId": "47d5d1a4-c464-420c-ebb2-6c40aeddc772"
      },
      "source": [
        "from keras.preprocessing.text import Tokenizer\n",
        "from keras.preprocessing.sequence import pad_sequences\n",
        "from keras.models import Sequential\n",
        "from keras import layers\n",
        "from keras import backend as K\n",
        "from keras.utils.vis_utils import plot_model\n",
        "\n",
        "model = Sequential()\n",
        "model.add(layers.Embedding(num_words, 128))\n",
        "model.add(layers.Bidirectional(layers.LSTM(256, return_sequences = True, dropout = 0.2)))\n",
        "model.add(layers.Bidirectional(layers.LSTM(512, return_sequences = True, dropout = 0.2)))\n",
        "model.add(layers.Bidirectional(layers.LSTM(64, return_sequences = True, dropout = 0.2)))\n",
        "model.add(layers.Bidirectional(layers.LSTM(8, dropout = 0.2)))\n",
        "model.add(layers.Dense(1, activation = 'sigmoid'))\n",
        "\n",
        "model.compile(loss = 'binary_crossentropy', optimizer = 'adam', metrics = ['accuracy'])\n",
        "\n",
        "model.summary()"
      ],
      "execution_count": 71,
      "outputs": [
        {
          "output_type": "stream",
          "name": "stdout",
          "text": [
            "Model: \"sequential_3\"\n",
            "_________________________________________________________________\n",
            "Layer (type)                 Output Shape              Param #   \n",
            "=================================================================\n",
            "embedding_2 (Embedding)      (None, None, 128)         2854912   \n",
            "_________________________________________________________________\n",
            "bidirectional_4 (Bidirection (None, None, 512)         788480    \n",
            "_________________________________________________________________\n",
            "bidirectional_5 (Bidirection (None, None, 1024)        4198400   \n",
            "_________________________________________________________________\n",
            "bidirectional_6 (Bidirection (None, None, 128)         557568    \n",
            "_________________________________________________________________\n",
            "bidirectional_7 (Bidirection (None, 16)                8768      \n",
            "_________________________________________________________________\n",
            "dense_2 (Dense)              (None, 1)                 17        \n",
            "=================================================================\n",
            "Total params: 8,408,145\n",
            "Trainable params: 8,408,145\n",
            "Non-trainable params: 0\n",
            "_________________________________________________________________\n"
          ]
        }
      ]
    },
    {
      "cell_type": "code",
      "metadata": {
        "colab": {
          "base_uri": "https://localhost:8080/"
        },
        "id": "tTQIad7_NCtk",
        "outputId": "b6cc0a75-990c-4aa8-f507-d857aca8db31"
      },
      "source": [
        "history = model.fit(\n",
        "    train_padded, train_labels, epochs=10, validation_data=(test_padded, test_labels),\n",
        ")"
      ],
      "execution_count": 72,
      "outputs": [
        {
          "output_type": "stream",
          "name": "stdout",
          "text": [
            "Epoch 1/10\n",
            "258/258 [==============================] - 36s 86ms/step - loss: 0.1418 - accuracy: 0.9680 - val_loss: 3.6586 - val_accuracy: 0.0000e+00\n",
            "Epoch 2/10\n",
            "258/258 [==============================] - 18s 70ms/step - loss: 0.1366 - accuracy: 0.9696 - val_loss: 3.4486 - val_accuracy: 0.0000e+00\n",
            "Epoch 3/10\n",
            "258/258 [==============================] - 18s 69ms/step - loss: 0.1289 - accuracy: 0.9710 - val_loss: 3.4369 - val_accuracy: 0.0882\n",
            "Epoch 4/10\n",
            "258/258 [==============================] - 18s 69ms/step - loss: 0.1743 - accuracy: 0.9469 - val_loss: 2.2412 - val_accuracy: 0.0000e+00\n",
            "Epoch 5/10\n",
            "258/258 [==============================] - 18s 69ms/step - loss: 0.0969 - accuracy: 0.9685 - val_loss: 2.3428 - val_accuracy: 0.0000e+00\n",
            "Epoch 6/10\n",
            "258/258 [==============================] - 18s 69ms/step - loss: 0.0776 - accuracy: 0.9724 - val_loss: 2.2180 - val_accuracy: 0.6108\n",
            "Epoch 7/10\n",
            "258/258 [==============================] - 18s 69ms/step - loss: 0.0697 - accuracy: 0.9804 - val_loss: 4.3320 - val_accuracy: 0.0000e+00\n",
            "Epoch 8/10\n",
            "258/258 [==============================] - 18s 68ms/step - loss: 0.1033 - accuracy: 0.9750 - val_loss: 3.3957 - val_accuracy: 0.0189\n",
            "Epoch 9/10\n",
            "258/258 [==============================] - 18s 69ms/step - loss: 0.0708 - accuracy: 0.9823 - val_loss: 2.1200 - val_accuracy: 0.5608\n",
            "Epoch 10/10\n",
            "258/258 [==============================] - 18s 68ms/step - loss: 0.0313 - accuracy: 0.9933 - val_loss: 1.3936 - val_accuracy: 0.7504\n"
          ]
        }
      ]
    },
    {
      "cell_type": "code",
      "metadata": {
        "colab": {
          "base_uri": "https://localhost:8080/",
          "height": 742
        },
        "id": "-6tFmE3vRFuv",
        "outputId": "393131d1-39b5-4627-a836-4220004f8f4a"
      },
      "source": [
        "def plot_graphs(history, string):\n",
        "  plt.plot(history.history[string])\n",
        "  plt.plot(history.history['val_'+string])\n",
        "  plt.xlabel(\"Epochs\")\n",
        "  plt.ylabel(string)\n",
        "  plt.legend([string, 'val_'+string])\n",
        "  plt.show()\n",
        "\n",
        "plot_graphs(history, 'accuracy')\n",
        "plot_graphs(history, 'loss')\n",
        "\n",
        "print('\\nEpoch No.  Train Accuracy  Train Loss     Val Accuracy    Val Loss')\n",
        "for i in range(10):\n",
        "  print('{:8d} {:10f} \\t {:10f} \\t {:10f} \\t {:10f}'.format(i + 1, history.history['accuracy'][i], history.history['loss'][i], history.history['val_accuracy'][i], history.history['val_loss'][i]))"
      ],
      "execution_count": 73,
      "outputs": [
        {
          "output_type": "display_data",
          "data": {
            "image/png": "[encoded data removed]",
            "text/plain": [
              "<Figure size 432x288 with 1 Axes>"
            ]
          },
          "metadata": {
            "needs_background": "light"
          }
        },
        {
          "output_type": "display_data",
          "data": {
            "image/png": "[encoded data removed]",
            "text/plain": [
              "<Figure size 432x288 with 1 Axes>"
            ]
          },
          "metadata": {
            "needs_background": "light"
          }
        },
        {
          "output_type": "stream",
          "name": "stdout",
          "text": [
            "\n",
            "Epoch No.  Train Accuracy  Train Loss     Val Accuracy    Val Loss\n",
            "       1   0.968004 \t   0.141797 \t   0.000000 \t   3.658623\n",
            "       2   0.969579 \t   0.136604 \t   0.000000 \t   3.448633\n",
            "       3   0.971034 \t   0.128872 \t   0.088221 \t   3.436880\n",
            "       4   0.946916 \t   0.174254 \t   0.000000 \t   2.241236\n",
            "       5   0.968489 \t   0.096876 \t   0.000000 \t   2.342777\n",
            "       6   0.972367 \t   0.077617 \t   0.610761 \t   2.217971\n",
            "       7   0.980366 \t   0.069687 \t   0.000000 \t   4.332014\n",
            "       8   0.975033 \t   0.103299 \t   0.018905 \t   3.395738\n",
            "       9   0.982305 \t   0.070827 \t   0.560834 \t   2.120031\n",
            "      10   0.993334 \t   0.031294 \t   0.750364 \t   1.393600\n"
          ]
        }
      ]
    },
    {
      "cell_type": "code",
      "metadata": {
        "colab": {
          "base_uri": "https://localhost:8080/",
          "height": 399
        },
        "id": "tmicGmvQUlpa",
        "outputId": "9e5c3134-70f1-4321-a11a-f3191e569106"
      },
      "source": [
        "y_pred = model.predict(train_padded)\n",
        "\n",
        "y_pred = np.where(y_pred > 0.5, 1, 0)\n",
        "y_pred = np.reshape(y_pred, (y_pred.shape[0]))\n",
        "\n",
        "loss, accuracy = model.evaluate(train_padded, train_labels, verbose = 1)\n",
        "print('Train Loss:', loss)\n",
        "print('Train Accuracy:', accuracy, '(Model Metric)')\n",
        "print('Train Accuracy:', accuracy_score(train_labels, y_pred), '(sklearn Metric)')\n",
        "print('Train Precision:', precision_score(train_labels, y_pred))\n",
        "print('Train Recall:', recall_score(train_labels, y_pred))\n",
        "print('Train F1-score:', f1_score(train_labels, y_pred))\n",
        "\n",
        "sns.heatmap(confusion_matrix(train_labels, y_pred), annot = True, fmt = 'g')"
      ],
      "execution_count": 74,
      "outputs": [
        {
          "output_type": "stream",
          "name": "stdout",
          "text": [
            "258/258 [==============================] - 9s 37ms/step - loss: 0.0195 - accuracy: 0.9968\n",
            "Train Loss: 0.01949755847454071\n",
            "Train Accuracy: 0.9968488812446594 (Model Metric)\n",
            "Train Accuracy: 0.9968488668040237 (sklearn Metric)\n",
            "Train Precision: 0.9787234042553191\n",
            "Train Recall: 0.9163346613545816\n",
            "Train F1-score: 0.9465020576131687\n"
          ]
        },
        {
          "output_type": "execute_result",
          "data": {
            "text/plain": [
              "<matplotlib.axes._subplots.AxesSubplot at 0x7f581e544210>"
            ]
          },
          "metadata": {},
          "execution_count": 74
        },
        {
          "output_type": "display_data",
          "data": {
            "image/png": "[encoded data removed]",
            "text/plain": [
              "<Figure size 432x288 with 2 Axes>"
            ]
          },
          "metadata": {
            "needs_background": "light"
          }
        }
      ]
    },
    {
      "cell_type": "code",
      "metadata": {
        "colab": {
          "base_uri": "https://localhost:8080/",
          "height": 399
        },
        "id": "LKMWovSNVmri",
        "outputId": "cb852d01-82cd-41ba-e626-41cd7bb7d6e8"
      },
      "source": [
        "y_pred = model.predict(test_padded)\n",
        "\n",
        "y_pred = np.where(y_pred > 0.5, 1, 0)\n",
        "y_pred = np.reshape(y_pred, (y_pred.shape[0]))\n",
        "\n",
        "loss, accuracy = model.evaluate(test_padded, test_labels, verbose = 1)\n",
        "print('Test Loss:', loss)\n",
        "print('Test Accuracy:', accuracy, '(Model Metric)')\n",
        "print('Test Accuracy:', accuracy_score(test_labels, y_pred), '(sklearn Metric)')\n",
        "print('Test Precision:', precision_score(test_labels, y_pred))\n",
        "print('Test Recall:', recall_score(test_labels, y_pred))\n",
        "print('Test F1-score:', f1_score(test_labels, y_pred))\n",
        "\n",
        "sns.heatmap(confusion_matrix(test_labels, y_pred), annot = True, fmt = 'g')"
      ],
      "execution_count": 75,
      "outputs": [
        {
          "output_type": "stream",
          "name": "stdout",
          "text": [
            "65/65 [==============================] - 2s 25ms/step - loss: 1.3936 - accuracy: 0.7504\n",
            "Test Loss: 1.393599510192871\n",
            "Test Accuracy: 0.7503635287284851 (Model Metric)\n",
            "Test Accuracy: 0.7503635482307319 (sklearn Metric)\n",
            "Test Precision: 1.0\n",
            "Test Recall: 0.7503635482307319\n",
            "Test F1-score: 0.8573802270839103\n"
          ]
        },
        {
          "output_type": "execute_result",
          "data": {
            "text/plain": [
              "<matplotlib.axes._subplots.AxesSubplot at 0x7f581b74ec90>"
            ]
          },
          "metadata": {},
          "execution_count": 75
        },
        {
          "output_type": "display_data",
          "data": {
            "image/png": "[encoded data removed]",
            "text/plain": [
              "<Figure size 432x288 with 2 Axes>"
            ]
          },
          "metadata": {
            "needs_background": "light"
          }
        }
      ]
    },
    {
      "cell_type": "code",
      "metadata": {
        "id": "KoUsqW84X8XD"
      },
      "source": [
        ""
      ],
      "execution_count": 75,
      "outputs": []
    }
  ]
}